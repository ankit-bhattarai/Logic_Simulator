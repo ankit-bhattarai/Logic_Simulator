{
 "cells": [
  {
   "cell_type": "code",
   "execution_count": 1,
   "metadata": {},
   "outputs": [],
   "source": [
    "from parse import Parser\n",
    "from scanner import Symbol, Scanner\n",
    "from names import Names\n",
    "from network import Network\n",
    "from devices import Devices\n",
    "from monitors import Monitors\n",
    "from userint import UserInterface\n",
    "\n",
    "names = Names()\n",
    "\n",
    "# DEVICES\n",
    "SWITCH = Symbol(\"SWITCH\", names.lookup([\"SWITCH\"])[0], 0, 0)\n",
    "swtich1 = Symbol(\"switch1\", names.lookup([\"switch1\"])[0], 0, 0)\n",
    "zero = Symbol(\"0\", names.lookup([\"0\"])[0], 0, 0)\n",
    "swtich2 = Symbol(\"switch2\", names.lookup([\"switch2\"])[0], 0, 0)\n",
    "AND = Symbol(\"AND\", names.lookup([\"AND\"])[0], 0, 0)\n",
    "and1 = Symbol(\"and1\", names.lookup([\"and1\"])[0], 0, 0)\n",
    "OR = Symbol(\"OR\", names.lookup([\"OR\"])[0], 0, 0)\n",
    "or1 = Symbol(\"or1\", names.lookup([\"or1\"])[0], 0, 0)\n",
    "two = Symbol(\"2\", names.lookup([\"2\"])[0], 0, 0)\n",
    "NAND = Symbol(\"NAND\", names.lookup([\"NAND\"])[0], 0, 0)\n",
    "nand1 = Symbol(\"nand1\", names.lookup([\"nand1\"])[0], 0, 0)\n",
    "DTYPE = Symbol(\"DTYPE\", names.lookup([\"DTYPE\"])[0], 0, 0)\n",
    "dtype1 = Symbol(\"dtype1\", names.lookup([\"dtype1\"])[0], 0, 0)\n",
    "CLOCK = Symbol(\"CLOCK\", names.lookup([\"CLOCK\"])[0], 0, 0)\n",
    "clock1 = Symbol(\"clock1\", names.lookup([\"clock1\"])[0], 0, 0)\n",
    "one = Symbol(\"1\", names.lookup([\"1\"])[0], 0, 0)\n",
    "\n",
    "# CONNECT\n",
    "arrow = Symbol(\">\", names.lookup([\">\"])[0], 0, 0)\n",
    "I1 = Symbol(\"I1\", names.lookup([\"I1\"])[0], 0, 0)\n",
    "dot = Symbol(\".\", names.lookup([\".\"])[0], 0, 0)\n",
    "I2 = Symbol(\"I2\", names.lookup([\"I2\"])[0], 0, 0)\n",
    "Q = Symbol(\"Q\", names.lookup([\"Q\"])[0], 0, 0)\n",
    "Q_BAR = Symbol(\"Q_BAR\", names.lookup([\"Q_BAR\"])[0], 0, 0)\n",
    "DATA = Symbol(\"DATA\", names.lookup([\"DATA\"])[0], 0, 0)\n",
    "SET = Symbol(\"SET\", names.lookup([\"SET\"])[0], 0, 0)\n",
    "CLK = Symbol(\"CLK\", names.lookup([\"CLK\"])[0], 0, 0)\n",
    "CLEAR = Symbol(\"CLEAR\", names.lookup([\"CLEAR\"])[0], 0, 0)\n",
    "\n",
    "\n",
    "dict = {\"DEVICES\": [[SWITCH, swtich1, zero], [SWITCH, swtich2, zero],\n",
    "                    [AND, and1, two], [OR, or1, two], [NAND, nand1, two],\n",
    "                    [DTYPE, dtype1], [CLOCK, clock1, one]],\n",
    "        \"CONNECTIONS\": [[swtich1, arrow, and1, dot, I1],\n",
    "                    [swtich1, arrow, or1, dot, I1],\n",
    "                    [swtich2, arrow, and1, dot, I2],\n",
    "                    [swtich1, arrow, or1, dot, I2],\n",
    "                    [and1, arrow, nand1, dot, I1],\n",
    "                    [or1, arrow, nand1, dot, I2],\n",
    "                    [clock1, arrow, dtype1, dot, CLK],\n",
    "                    [swtich1, arrow, dtype1, dot, DATA],\n",
    "                    [nand1, arrow, dtype1, dot, SET],   \n",
    "                    [or1, arrow, dtype1, dot, CLEAR]],\n",
    "\n",
    "        \"MONITORS\": [[and1], [or1], [nand1]]}\n",
    "\n",
    "devices = Devices(names=names)\n",
    "network = Network(names=names, devices=devices)\n",
    "monitors = Monitors(names=names, devices=devices, network=network)\n",
    "scanner = Scanner(None, names=names)\n",
    "parser = Parser(names=names, devices=devices, network=network, monitors=monitors, scanner=scanner)\n",
    "parser.build_network(dict)\n",
    "ui = UserInterface(names=names, devices=devices, network=network, monitors=monitors)"
   ]
  },
  {
   "cell_type": "code",
   "execution_count": 2,
   "metadata": {},
   "outputs": [
    {
     "name": "stdout",
     "output_type": "stream",
     "text": [
      "1 switch1 0 {} {None: 0}\n",
      "3 switch2 0 {} {None: 0}\n",
      "5 and1 4 {17: (1, None), 19: (3, None)} {None: 0}\n",
      "7 or1 6 {17: (1, None), 19: (1, None)} {None: 0}\n",
      "10 nand1 9 {17: (5, None), 19: (7, None)} {None: 0}\n",
      "12 dtype1 11 {24: (14, None), 23: (10, None), 25: (7, None), 22: (1, None)} {20: 0, 28: 0}\n",
      "14 clock1 13 {} {None: 1}\n"
     ]
    }
   ],
   "source": [
    "for device in devices.devices_list:\n",
    "    id = device.device_id\n",
    "    name = names.get_name_string(id)\n",
    "    type = device.device_kind\n",
    "    print(f\"{id} {name} {type} {device.inputs} {device.outputs}\")"
   ]
  },
  {
   "cell_type": "code",
   "execution_count": 3,
   "metadata": {},
   "outputs": [],
   "source": [
    "switches = ui.devices.find_devices(devices.SWITCH)"
   ]
  },
  {
   "cell_type": "code",
   "execution_count": 4,
   "metadata": {},
   "outputs": [],
   "source": [
    "# Getting the switch names and setting them"
   ]
  },
  {
   "cell_type": "code",
   "execution_count": 5,
   "metadata": {},
   "outputs": [],
   "source": [
    "switches_dict = {}\n",
    "for switch_id in switches:\n",
    "    switch_name = names.get_name_string(switch_id)\n",
    "    switches_dict[switch_name] = switch_id"
   ]
  },
  {
   "cell_type": "code",
   "execution_count": 6,
   "metadata": {},
   "outputs": [
    {
     "data": {
      "text/plain": [
       "{'switch1': 1, 'switch2': 3}"
      ]
     },
     "execution_count": 6,
     "metadata": {},
     "output_type": "execute_result"
    }
   ],
   "source": [
    "# This is how to get the names of the switches and their ids\n",
    "switches_dict"
   ]
  },
  {
   "cell_type": "code",
   "execution_count": 5,
   "metadata": {},
   "outputs": [],
   "source": [
    "switch_1_id = switches[0]\n",
    "switch_2_id = switches[1]\n",
    "\n",
    "switch_1_name = names.get_name_string(switch_1_id)\n",
    "switch_2_name = names.get_name_string(switch_2_id)"
   ]
  },
  {
   "cell_type": "code",
   "execution_count": 6,
   "metadata": {},
   "outputs": [
    {
     "data": {
      "text/plain": [
       "('switch1', 'switch2')"
      ]
     },
     "execution_count": 6,
     "metadata": {},
     "output_type": "execute_result"
    }
   ],
   "source": [
    "switch_1_name, switch_2_name"
   ]
  },
  {
   "cell_type": "code",
   "execution_count": 7,
   "metadata": {},
   "outputs": [
    {
     "data": {
      "text/plain": [
       "True"
      ]
     },
     "execution_count": 7,
     "metadata": {},
     "output_type": "execute_result"
    }
   ],
   "source": [
    "ui.devices.set_switch(switch_1_id, 1)"
   ]
  },
  {
   "cell_type": "code",
   "execution_count": 8,
   "metadata": {},
   "outputs": [
    {
     "data": {
      "text/plain": [
       "True"
      ]
     },
     "execution_count": 8,
     "metadata": {},
     "output_type": "execute_result"
    }
   ],
   "source": [
    "ui.devices.set_switch(switch_2_id, 1)"
   ]
  },
  {
   "cell_type": "code",
   "execution_count": 9,
   "metadata": {},
   "outputs": [],
   "source": [
    "# Continue running cycles for certain amount of time"
   ]
  },
  {
   "cell_type": "code",
   "execution_count": 10,
   "metadata": {},
   "outputs": [
    {
     "name": "stdout",
     "output_type": "stream",
     "text": [
      "and1 : -----\n",
      "or1  : -----\n",
      "nand1: _____\n"
     ]
    },
    {
     "data": {
      "text/plain": [
       "True"
      ]
     },
     "execution_count": 10,
     "metadata": {},
     "output_type": "execute_result"
    }
   ],
   "source": [
    "ui.run_network(5)"
   ]
  },
  {
   "cell_type": "code",
   "execution_count": 11,
   "metadata": {},
   "outputs": [],
   "source": [
    "# When run pressed - reset network and devices\n",
    "ui.devices.cold_startup()\n",
    "ui.monitors.reset_monitors()"
   ]
  },
  {
   "cell_type": "code",
   "execution_count": 12,
   "metadata": {},
   "outputs": [
    {
     "name": "stdout",
     "output_type": "stream",
     "text": [
      "and1 : \n",
      "or1  : \n",
      "nand1: \n"
     ]
    },
    {
     "data": {
      "text/plain": [
       "True"
      ]
     },
     "execution_count": 12,
     "metadata": {},
     "output_type": "execute_result"
    }
   ],
   "source": [
    "ui.run_network(0)"
   ]
  },
  {
   "cell_type": "code",
   "execution_count": 13,
   "metadata": {},
   "outputs": [
    {
     "name": "stdout",
     "output_type": "stream",
     "text": [
      "and1 : -----\n",
      "or1  : -----\n",
      "nand1: _____\n"
     ]
    },
    {
     "data": {
      "text/plain": [
       "True"
      ]
     },
     "execution_count": 13,
     "metadata": {},
     "output_type": "execute_result"
    }
   ],
   "source": [
    "ui.run_network(5)"
   ]
  },
  {
   "cell_type": "code",
   "execution_count": 14,
   "metadata": {},
   "outputs": [
    {
     "data": {
      "text/plain": [
       "12"
      ]
     },
     "execution_count": 14,
     "metadata": {},
     "output_type": "execute_result"
    }
   ],
   "source": [
    "# Add monitor\n",
    "\n",
    "ui.monitors.make_monitor(switch_1_id, None, ui.cycles_completed)\n"
   ]
  },
  {
   "cell_type": "code",
   "execution_count": 15,
   "metadata": {},
   "outputs": [
    {
     "name": "stdout",
     "output_type": "stream",
     "text": [
      "and1   : ----------\n",
      "or1    : ----------\n",
      "nand1  : __________\n",
      "switch1: -----\n"
     ]
    },
    {
     "data": {
      "text/plain": [
       "True"
      ]
     },
     "execution_count": 15,
     "metadata": {},
     "output_type": "execute_result"
    }
   ],
   "source": [
    "ui.run_network(5)"
   ]
  },
  {
   "cell_type": "code",
   "execution_count": 16,
   "metadata": {},
   "outputs": [
    {
     "data": {
      "text/plain": [
       "12"
      ]
     },
     "execution_count": 16,
     "metadata": {},
     "output_type": "execute_result"
    }
   ],
   "source": [
    "ui.monitors.make_monitor(switch_2_id, None, ui.cycles_completed)"
   ]
  },
  {
   "cell_type": "code",
   "execution_count": 17,
   "metadata": {},
   "outputs": [
    {
     "name": "stdout",
     "output_type": "stream",
     "text": [
      "and1   : ---------------\n",
      "or1    : ---------------\n",
      "nand1  : _______________\n",
      "switch1: ----------\n",
      "switch2: -----\n"
     ]
    },
    {
     "data": {
      "text/plain": [
       "True"
      ]
     },
     "execution_count": 17,
     "metadata": {},
     "output_type": "execute_result"
    }
   ],
   "source": [
    "ui.run_network(5)"
   ]
  },
  {
   "cell_type": "code",
   "execution_count": 18,
   "metadata": {},
   "outputs": [
    {
     "data": {
      "text/plain": [
       "True"
      ]
     },
     "execution_count": 18,
     "metadata": {},
     "output_type": "execute_result"
    }
   ],
   "source": [
    "ui.devices.set_switch(switch_1_id, 0)"
   ]
  },
  {
   "cell_type": "code",
   "execution_count": 19,
   "metadata": {},
   "outputs": [
    {
     "name": "stdout",
     "output_type": "stream",
     "text": [
      "and1   : ---------------_____\n",
      "or1    : ---------------_____\n",
      "nand1  : _______________-----\n",
      "switch1: ----------_____\n",
      "switch2: ----------\n"
     ]
    },
    {
     "data": {
      "text/plain": [
       "True"
      ]
     },
     "execution_count": 19,
     "metadata": {},
     "output_type": "execute_result"
    }
   ],
   "source": [
    "ui.run_network(5)"
   ]
  },
  {
   "cell_type": "code",
   "execution_count": 20,
   "metadata": {},
   "outputs": [
    {
     "data": {
      "text/plain": [
       "True"
      ]
     },
     "execution_count": 20,
     "metadata": {},
     "output_type": "execute_result"
    }
   ],
   "source": [
    "# Remove monitor\n",
    "\n",
    "ui.monitors.remove_monitor(switch_1_id, None)"
   ]
  },
  {
   "cell_type": "code",
   "execution_count": 21,
   "metadata": {},
   "outputs": [
    {
     "name": "stdout",
     "output_type": "stream",
     "text": [
      "and1   : ---------------__________\n",
      "or1    : ---------------__________\n",
      "nand1  : _______________----------\n",
      "switch2: ---------------\n"
     ]
    },
    {
     "data": {
      "text/plain": [
       "True"
      ]
     },
     "execution_count": 21,
     "metadata": {},
     "output_type": "execute_result"
    }
   ],
   "source": [
    "ui.run_network(5)"
   ]
  },
  {
   "cell_type": "code",
   "execution_count": 22,
   "metadata": {},
   "outputs": [],
   "source": [
    "ui.devices.cold_startup()\n",
    "ui.monitors.reset_monitors()"
   ]
  },
  {
   "cell_type": "code",
   "execution_count": 23,
   "metadata": {},
   "outputs": [
    {
     "data": {
      "text/plain": [
       "OrderedDict([((5, None), []),\n",
       "             ((7, None), []),\n",
       "             ((10, None), []),\n",
       "             ((3, None), [])])"
      ]
     },
     "execution_count": 23,
     "metadata": {},
     "output_type": "execute_result"
    }
   ],
   "source": [
    "ui.monitors.monitors_dictionary"
   ]
  },
  {
   "cell_type": "code",
   "execution_count": 24,
   "metadata": {},
   "outputs": [
    {
     "name": "stdout",
     "output_type": "stream",
     "text": [
      "and1   : _____\n",
      "or1    : _____\n",
      "nand1  : -----\n",
      "switch2: -----\n"
     ]
    },
    {
     "data": {
      "text/plain": [
       "OrderedDict([((5, None), [0, 0, 0, 0, 0]),\n",
       "             ((7, None), [0, 0, 0, 0, 0]),\n",
       "             ((10, None), [1, 1, 1, 1, 1]),\n",
       "             ((3, None), [1, 1, 1, 1, 1])])"
      ]
     },
     "execution_count": 24,
     "metadata": {},
     "output_type": "execute_result"
    }
   ],
   "source": [
    "ui.run_network(5)\n",
    "ui.monitors.monitors_dictionary"
   ]
  },
  {
   "cell_type": "code",
   "execution_count": 25,
   "metadata": {},
   "outputs": [
    {
     "name": "stdout",
     "output_type": "stream",
     "text": [
      "and1   : __________\n",
      "or1    : __________\n",
      "nand1  : ----------\n",
      "switch2: -----_____\n"
     ]
    },
    {
     "data": {
      "text/plain": [
       "OrderedDict([((5, None), [0, 0, 0, 0, 0, 0, 0, 0, 0, 0]),\n",
       "             ((7, None), [0, 0, 0, 0, 0, 0, 0, 0, 0, 0]),\n",
       "             ((10, None), [1, 1, 1, 1, 1, 1, 1, 1, 1, 1]),\n",
       "             ((3, None), [1, 1, 1, 1, 1, 0, 0, 0, 0, 0])])"
      ]
     },
     "execution_count": 25,
     "metadata": {},
     "output_type": "execute_result"
    }
   ],
   "source": [
    "ui.devices.set_switch(switch_2_id, 0)\n",
    "ui.run_network(5)\n",
    "ui.monitors.monitors_dictionary"
   ]
  },
  {
   "cell_type": "code",
   "execution_count": 26,
   "metadata": {},
   "outputs": [
    {
     "data": {
      "text/plain": [
       "OrderedDict([((5, None), [0, 0, 0, 0, 0, 0, 0, 0, 0, 0]),\n",
       "             ((7, None), [0, 0, 0, 0, 0, 0, 0, 0, 0, 0]),\n",
       "             ((10, None), [1, 1, 1, 1, 1, 1, 1, 1, 1, 1]),\n",
       "             ((3, None), [1, 1, 1, 1, 1, 0, 0, 0, 0, 0]),\n",
       "             ((1, None), [])])"
      ]
     },
     "execution_count": 26,
     "metadata": {},
     "output_type": "execute_result"
    }
   ],
   "source": [
    "# Lets add switch 1 to the monitor again\n",
    "ui.monitors.make_monitor(switch_1_id, None, ui.cycles_completed)\n",
    "ui.monitors.monitors_dictionary"
   ]
  },
  {
   "cell_type": "code",
   "execution_count": 27,
   "metadata": {},
   "outputs": [
    {
     "name": "stdout",
     "output_type": "stream",
     "text": [
      "and1   : _______________\n",
      "or1    : _______________\n",
      "nand1  : ---------------\n",
      "switch2: -----__________\n",
      "switch1: _____\n"
     ]
    },
    {
     "data": {
      "text/plain": [
       "OrderedDict([((5, None), [0, 0, 0, 0, 0, 0, 0, 0, 0, 0, 0, 0, 0, 0, 0]),\n",
       "             ((7, None), [0, 0, 0, 0, 0, 0, 0, 0, 0, 0, 0, 0, 0, 0, 0]),\n",
       "             ((10, None), [1, 1, 1, 1, 1, 1, 1, 1, 1, 1, 1, 1, 1, 1, 1]),\n",
       "             ((3, None), [1, 1, 1, 1, 1, 0, 0, 0, 0, 0, 0, 0, 0, 0, 0]),\n",
       "             ((1, None), [0, 0, 0, 0, 0])])"
      ]
     },
     "execution_count": 27,
     "metadata": {},
     "output_type": "execute_result"
    }
   ],
   "source": [
    "ui.run_network(5)\n",
    "ui.monitors.monitors_dictionary"
   ]
  },
  {
   "cell_type": "code",
   "execution_count": 28,
   "metadata": {},
   "outputs": [],
   "source": [
    "# So when a monitor is added, it seems that it only shows values from where it\n",
    "# was added onwards but with the indexing making it seem like it was there from\n",
    "# the start, will need to modify the graphs to deal with this"
   ]
  },
  {
   "cell_type": "code",
   "execution_count": 30,
   "metadata": {},
   "outputs": [],
   "source": [
    "# Want to get a list of the outputs of all the devices"
   ]
  },
  {
   "cell_type": "code",
   "execution_count": 51,
   "metadata": {},
   "outputs": [
    {
     "name": "stdout",
     "output_type": "stream",
     "text": [
      "1 switch1 {None: 0}\n",
      "3 switch2 {None: 0}\n",
      "5 and1 {None: 0}\n",
      "7 or1 {None: 0}\n",
      "10 nand1 {None: 0}\n",
      "12 dtype1 {20: 0, 28: 0}\n",
      "14 clock1 {None: 1}\n"
     ]
    }
   ],
   "source": [
    "outputs = {}\n",
    "for device in devices.devices_list:\n",
    "    device_id = device.device_id\n",
    "    device_name = names.get_name_string(device_id)\n",
    "    device_outputs = device.outputs\n",
    "    print(f\"{device_id} {device_name} {device_outputs}\")\n",
    "    for id in device_outputs:\n",
    "        if id is None:\n",
    "            outputs[f\"{device_name}\"] = (device_id, None)\n",
    "        else:\n",
    "            pin_name = names.get_name_string(id)\n",
    "            outputs[f\"{device_name}.{pin_name}\"] = (device_id, pin_name) "
   ]
  },
  {
   "cell_type": "code",
   "execution_count": 52,
   "metadata": {},
   "outputs": [
    {
     "data": {
      "text/plain": [
       "{'switch1': (1, None),\n",
       " 'switch2': (3, None),\n",
       " 'and1': (5, None),\n",
       " 'or1': (7, None),\n",
       " 'nand1': (10, None),\n",
       " 'dtype1.Q': (12, 'Q'),\n",
       " 'dtype1.QBAR': (12, 'QBAR'),\n",
       " 'clock1': (14, None)}"
      ]
     },
     "execution_count": 52,
     "metadata": {},
     "output_type": "execute_result"
    }
   ],
   "source": [
    "# Getting the outputs for the monitors\n",
    "outputs"
   ]
  }
 ],
 "metadata": {
  "kernelspec": {
   "display_name": "base",
   "language": "python",
   "name": "python3"
  },
  "language_info": {
   "codemirror_mode": {
    "name": "ipython",
    "version": 3
   },
   "file_extension": ".py",
   "mimetype": "text/x-python",
   "name": "python",
   "nbconvert_exporter": "python",
   "pygments_lexer": "ipython3",
   "version": "3.9.13"
  },
  "orig_nbformat": 4
 },
 "nbformat": 4,
 "nbformat_minor": 2
}
